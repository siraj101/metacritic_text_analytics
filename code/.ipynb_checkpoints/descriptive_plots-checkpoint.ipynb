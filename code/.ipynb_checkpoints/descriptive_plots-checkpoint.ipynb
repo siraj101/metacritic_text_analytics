{
 "cells": [
  {
   "cell_type": "code",
   "execution_count": 16,
   "id": "3689ae79-cfd9-40fb-bdb0-ea292bba3972",
   "metadata": {},
   "outputs": [],
   "source": [
    "import pandas as pd\n",
    "import seaborn as sns\n",
    "import matplotlib.pyplot as plt"
   ]
  },
  {
   "cell_type": "code",
   "execution_count": 40,
   "id": "e3528f75-b870-4f63-959f-b23343d9f112",
   "metadata": {},
   "outputs": [
    {
     "data": {
      "text/html": [
       "<div>\n",
       "<style scoped>\n",
       "    .dataframe tbody tr th:only-of-type {\n",
       "        vertical-align: middle;\n",
       "    }\n",
       "\n",
       "    .dataframe tbody tr th {\n",
       "        vertical-align: top;\n",
       "    }\n",
       "\n",
       "    .dataframe thead th {\n",
       "        text-align: right;\n",
       "    }\n",
       "</style>\n",
       "<table border=\"1\" class=\"dataframe\">\n",
       "  <thead>\n",
       "    <tr style=\"text-align: right;\">\n",
       "      <th></th>\n",
       "      <th>game_name</th>\n",
       "      <th>tone</th>\n",
       "      <th>strategy based gameplay</th>\n",
       "      <th>game design</th>\n",
       "      <th>difficulty</th>\n",
       "      <th>skill based gameplay</th>\n",
       "      <th>enjoyment</th>\n",
       "      <th>luck based gameplay</th>\n",
       "      <th>world building</th>\n",
       "      <th>visuals</th>\n",
       "      <th>technical performance</th>\n",
       "      <th>innovative</th>\n",
       "      <th>playthrough time</th>\n",
       "      <th>value</th>\n",
       "      <th>narrative</th>\n",
       "      <th>multiplayer</th>\n",
       "    </tr>\n",
       "    <tr>\n",
       "      <th>game_id</th>\n",
       "      <th></th>\n",
       "      <th></th>\n",
       "      <th></th>\n",
       "      <th></th>\n",
       "      <th></th>\n",
       "      <th></th>\n",
       "      <th></th>\n",
       "      <th></th>\n",
       "      <th></th>\n",
       "      <th></th>\n",
       "      <th></th>\n",
       "      <th></th>\n",
       "      <th></th>\n",
       "      <th></th>\n",
       "      <th></th>\n",
       "      <th></th>\n",
       "    </tr>\n",
       "  </thead>\n",
       "  <tbody>\n",
       "    <tr>\n",
       "      <th>0</th>\n",
       "      <td>Disco Elysium: The Final Cut</td>\n",
       "      <td>NaN</td>\n",
       "      <td>NaN</td>\n",
       "      <td>NaN</td>\n",
       "      <td>NaN</td>\n",
       "      <td>NaN</td>\n",
       "      <td>NaN</td>\n",
       "      <td>NaN</td>\n",
       "      <td>-0.25</td>\n",
       "      <td>NaN</td>\n",
       "      <td>NaN</td>\n",
       "      <td>NaN</td>\n",
       "      <td>NaN</td>\n",
       "      <td>NaN</td>\n",
       "      <td>0.0</td>\n",
       "      <td>NaN</td>\n",
       "    </tr>\n",
       "    <tr>\n",
       "      <th>1</th>\n",
       "      <td>Final Fantasy XIV: Endwalker</td>\n",
       "      <td>NaN</td>\n",
       "      <td>NaN</td>\n",
       "      <td>NaN</td>\n",
       "      <td>NaN</td>\n",
       "      <td>NaN</td>\n",
       "      <td>NaN</td>\n",
       "      <td>NaN</td>\n",
       "      <td>NaN</td>\n",
       "      <td>NaN</td>\n",
       "      <td>NaN</td>\n",
       "      <td>NaN</td>\n",
       "      <td>NaN</td>\n",
       "      <td>NaN</td>\n",
       "      <td>0.0</td>\n",
       "      <td>NaN</td>\n",
       "    </tr>\n",
       "    <tr>\n",
       "      <th>2</th>\n",
       "      <td>Forza Horizon 5</td>\n",
       "      <td>NaN</td>\n",
       "      <td>NaN</td>\n",
       "      <td>0.248725</td>\n",
       "      <td>NaN</td>\n",
       "      <td>NaN</td>\n",
       "      <td>NaN</td>\n",
       "      <td>NaN</td>\n",
       "      <td>NaN</td>\n",
       "      <td>NaN</td>\n",
       "      <td>NaN</td>\n",
       "      <td>NaN</td>\n",
       "      <td>NaN</td>\n",
       "      <td>NaN</td>\n",
       "      <td>NaN</td>\n",
       "      <td>NaN</td>\n",
       "    </tr>\n",
       "    <tr>\n",
       "      <th>3</th>\n",
       "      <td>Chicory: A Colorful Tale</td>\n",
       "      <td>NaN</td>\n",
       "      <td>NaN</td>\n",
       "      <td>NaN</td>\n",
       "      <td>NaN</td>\n",
       "      <td>NaN</td>\n",
       "      <td>NaN</td>\n",
       "      <td>NaN</td>\n",
       "      <td>NaN</td>\n",
       "      <td>NaN</td>\n",
       "      <td>-0.440400</td>\n",
       "      <td>NaN</td>\n",
       "      <td>NaN</td>\n",
       "      <td>NaN</td>\n",
       "      <td>NaN</td>\n",
       "      <td>NaN</td>\n",
       "    </tr>\n",
       "    <tr>\n",
       "      <th>4</th>\n",
       "      <td>Psychonauts 2</td>\n",
       "      <td>NaN</td>\n",
       "      <td>NaN</td>\n",
       "      <td>0.401900</td>\n",
       "      <td>NaN</td>\n",
       "      <td>NaN</td>\n",
       "      <td>NaN</td>\n",
       "      <td>NaN</td>\n",
       "      <td>NaN</td>\n",
       "      <td>NaN</td>\n",
       "      <td>-0.190633</td>\n",
       "      <td>0.4019</td>\n",
       "      <td>NaN</td>\n",
       "      <td>NaN</td>\n",
       "      <td>NaN</td>\n",
       "      <td>NaN</td>\n",
       "    </tr>\n",
       "  </tbody>\n",
       "</table>\n",
       "</div>"
      ],
      "text/plain": [
       "                            game_name  tone  strategy based gameplay  \\\n",
       "game_id                                                                \n",
       "0        Disco Elysium: The Final Cut   NaN                      NaN   \n",
       "1        Final Fantasy XIV: Endwalker   NaN                      NaN   \n",
       "2                     Forza Horizon 5   NaN                      NaN   \n",
       "3            Chicory: A Colorful Tale   NaN                      NaN   \n",
       "4                       Psychonauts 2   NaN                      NaN   \n",
       "\n",
       "         game design  difficulty  skill based gameplay  enjoyment  \\\n",
       "game_id                                                             \n",
       "0                NaN         NaN                   NaN        NaN   \n",
       "1                NaN         NaN                   NaN        NaN   \n",
       "2           0.248725         NaN                   NaN        NaN   \n",
       "3                NaN         NaN                   NaN        NaN   \n",
       "4           0.401900         NaN                   NaN        NaN   \n",
       "\n",
       "         luck based gameplay  world building  visuals  technical performance  \\\n",
       "game_id                                                                        \n",
       "0                        NaN           -0.25      NaN                    NaN   \n",
       "1                        NaN             NaN      NaN                    NaN   \n",
       "2                        NaN             NaN      NaN                    NaN   \n",
       "3                        NaN             NaN      NaN              -0.440400   \n",
       "4                        NaN             NaN      NaN              -0.190633   \n",
       "\n",
       "         innovative  playthrough time  value  narrative  multiplayer  \n",
       "game_id                                                               \n",
       "0               NaN               NaN    NaN        0.0          NaN  \n",
       "1               NaN               NaN    NaN        0.0          NaN  \n",
       "2               NaN               NaN    NaN        NaN          NaN  \n",
       "3               NaN               NaN    NaN        NaN          NaN  \n",
       "4            0.4019               NaN    NaN        NaN          NaN  "
      ]
     },
     "execution_count": 40,
     "metadata": {},
     "output_type": "execute_result"
    }
   ],
   "source": [
    "data_dir = \"../data/\"\n",
    "sent_score = pd.read_csv(data_dir+'Sentiment_Analysis_Per_Game_Per_Attribute.csv', index_col='game_id')\n",
    "sent_score.drop(columns = ['Unnamed: 0', 'score', 'sound track', 'ignore'], inplace=True)\n",
    "sent_score.head()"
   ]
  },
  {
   "cell_type": "code",
   "execution_count": 64,
   "id": "3ecccfcc-13d3-400e-95d8-ace31cd04f2c",
   "metadata": {},
   "outputs": [
    {
     "data": {
      "text/plain": [
       "Text(0.5, 1.0, 'Highest Scoring Attributes')"
      ]
     },
     "execution_count": 64,
     "metadata": {},
     "output_type": "execute_result"
    },
    {
     "data": {
      "image/png": "[encoded data removed]",
      "text/plain": [
       "<Figure size 504x216 with 1 Axes>"
      ]
     },
     "metadata": {},
     "output_type": "display_data"
    }
   ],
   "source": [
    "top_5_att = sent_score.mean().nlargest(3)\n",
    "sns.set(rc={\"figure.figsize\":(7, 3)})\n",
    "sns.set_theme(style='white')\n",
    "sns.barplot(y=top_5_att, x=top_5_att.index, color='lightblue')\n",
    "plt.xlabel('Attributes')\n",
    "plt.ylabel('Average Sentiment Score')\n",
    "plt.title('Highest Scoring Attributes')"
   ]
  },
  {
   "cell_type": "code",
   "execution_count": 65,
   "id": "326d3b3d-4549-48f2-98ac-9f23ad3e1dbf",
   "metadata": {},
   "outputs": [
    {
     "data": {
      "text/plain": [
       "Text(0.5, 1.0, 'Lowest Scoring Attributes')"
      ]
     },
     "execution_count": 65,
     "metadata": {},
     "output_type": "execute_result"
    },
    {
     "data": {
      "image/png": "[encoded data removed]",
      "text/plain": [
       "<Figure size 504x216 with 1 Axes>"
      ]
     },
     "metadata": {},
     "output_type": "display_data"
    }
   ],
   "source": [
    "top_5_att = sent_score.mean().nsmallest(3)\n",
    "sns.set(rc={\"figure.figsize\":(7, 3)})\n",
    "sns.set_theme(style='white')\n",
    "sns.barplot(y=top_5_att, x=top_5_att.index, color='red')\n",
    "plt.xlabel('Attributes')\n",
    "plt.ylabel('Average Sentiment Score')\n",
    "plt.title('Lowest Scoring Attributes')"
   ]
  },
  {
   "cell_type": "code",
   "execution_count": 61,
   "id": "31e6cf36-55c3-4947-b372-a5651a1ec652",
   "metadata": {},
   "outputs": [
    {
     "data": {
      "text/plain": [
       "Text(0.5, 1.0, 'Psychonauts 2 Ratings')"
      ]
     },
     "execution_count": 61,
     "metadata": {},
     "output_type": "execute_result"
    },
    {
     "data": {
      "image/png": "[encoded data removed]",
      "text/plain": [
       "<Figure size 504x216 with 1 Axes>"
      ]
     },
     "metadata": {},
     "output_type": "display_data"
    }
   ],
   "source": [
    "psychonauts_atts = sent_score.iloc[4].dropna()[1:].sort_values(ascending=False)\n",
    "sns.set(rc={\"figure.figsize\":(7, 3)})\n",
    "sns.set_theme(style='white')\n",
    "sns.barplot(y=psychonauts_atts, x=psychonauts_atts.index)\n",
    "plt.xlabel('Attributes')\n",
    "plt.ylabel('Average Sentiment Score')\n",
    "plt.title('Psychonauts 2 Ratings')"
   ]
  },
  {
   "cell_type": "code",
   "execution_count": 52,
   "id": "f12fd037-a55a-4158-8d44-cf9ca939a028",
   "metadata": {},
   "outputs": [
    {
     "data": {
      "text/plain": [
       "game_name                Psychonauts 2\n",
       "game design                     0.4019\n",
       "technical performance        -0.190633\n",
       "innovative                      0.4019\n",
       "Name: 4, dtype: object"
      ]
     },
     "execution_count": 52,
     "metadata": {},
     "output_type": "execute_result"
    }
   ],
   "source": [
    "psychonauts_atts"
   ]
  }
 ],
 "metadata": {
  "kernelspec": {
   "display_name": "Python 3",
   "language": "python",
   "name": "python3"
  },
  "language_info": {
   "codemirror_mode": {
    "name": "ipython",
    "version": 3
   },
   "file_extension": ".py",
   "mimetype": "text/x-python",
   "name": "python",
   "nbconvert_exporter": "python",
   "pygments_lexer": "ipython3",
   "version": "3.8.8"
  }
 },
 "nbformat": 4,
 "nbformat_minor": 5
}
