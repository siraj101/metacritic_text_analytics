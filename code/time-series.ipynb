{
 "cells": [
  {
   "cell_type": "code",
   "execution_count": 29,
   "id": "7ec053c2",
   "metadata": {},
   "outputs": [],
   "source": [
    "import pandas as pd\n",
    "import numpy as np\n",
    "import matplotlib.pyplot as plt\n",
    "import seaborn as sns\n",
    "plt.rcParams['figure.figsize'] = [8, 8]\n",
    "sns.set_theme(style=\"whitegrid\")\n",
    "sns.color_palette(\"rocket\", as_cmap=True)\n",
    "sns.set_palette(\"pastel\")\n",
    "#hide all warnings\n",
    "import warnings\n",
    "warnings.filterwarnings('ignore')"
   ]
  },
  {
   "cell_type": "code",
   "execution_count": 30,
   "id": "50313655",
   "metadata": {},
   "outputs": [],
   "source": [
    "data_dir = \"../data/\"\n",
    "plots_dir = \"../plots/\""
   ]
  },
  {
   "cell_type": "code",
   "execution_count": 31,
   "id": "fbf5bf4b",
   "metadata": {},
   "outputs": [],
   "source": [
    "reviews = pd.read_csv(data_dir+\"gta-reviews.csv\")"
   ]
  },
  {
   "cell_type": "code",
   "execution_count": 32,
   "id": "8d688d9c",
   "metadata": {},
   "outputs": [
    {
     "data": {
      "text/html": [
       "<div>\n",
       "<style scoped>\n",
       "    .dataframe tbody tr th:only-of-type {\n",
       "        vertical-align: middle;\n",
       "    }\n",
       "\n",
       "    .dataframe tbody tr th {\n",
       "        vertical-align: top;\n",
       "    }\n",
       "\n",
       "    .dataframe thead th {\n",
       "        text-align: right;\n",
       "    }\n",
       "</style>\n",
       "<table border=\"1\" class=\"dataframe\">\n",
       "  <thead>\n",
       "    <tr style=\"text-align: right;\">\n",
       "      <th></th>\n",
       "      <th>title</th>\n",
       "      <th>score</th>\n",
       "      <th>critic</th>\n",
       "      <th>summary</th>\n",
       "      <th>score_critic</th>\n",
       "      <th>year</th>\n",
       "    </tr>\n",
       "  </thead>\n",
       "  <tbody>\n",
       "    <tr>\n",
       "      <th>0</th>\n",
       "      <td>Grand Theft Auto: Liberty City Stories</td>\n",
       "      <td>88</td>\n",
       "      <td>Gamer 2.0</td>\n",
       "      <td>On one hand, it is watered-down, it is not as ...</td>\n",
       "      <td>83.0</td>\n",
       "      <td>24-Oct-05</td>\n",
       "    </tr>\n",
       "    <tr>\n",
       "      <th>1</th>\n",
       "      <td>Grand Theft Auto: San Andreas</td>\n",
       "      <td>93</td>\n",
       "      <td>Gamer's Hell</td>\n",
       "      <td>An absolute blast to play, if you can forgive ...</td>\n",
       "      <td>78.0</td>\n",
       "      <td>07-Jun-05</td>\n",
       "    </tr>\n",
       "    <tr>\n",
       "      <th>2</th>\n",
       "      <td>Grand Theft Auto: Chinatown Wars</td>\n",
       "      <td>93</td>\n",
       "      <td>IGN AU</td>\n",
       "      <td>For Nintendo-only gamers out there – and these...</td>\n",
       "      <td>93.0</td>\n",
       "      <td>17-Mar-09</td>\n",
       "    </tr>\n",
       "    <tr>\n",
       "      <th>3</th>\n",
       "      <td>Grand Theft Auto: San Andreas</td>\n",
       "      <td>95</td>\n",
       "      <td>NaN</td>\n",
       "      <td>Bigger and richer in every way - a near bottom...</td>\n",
       "      <td>88.0</td>\n",
       "      <td>26-Oct-04</td>\n",
       "    </tr>\n",
       "    <tr>\n",
       "      <th>4</th>\n",
       "      <td>Grand Theft Auto: Vice City</td>\n",
       "      <td>95</td>\n",
       "      <td>Thunderbolt</td>\n",
       "      <td>It has the right blend of intense gameplay, an...</td>\n",
       "      <td>90.0</td>\n",
       "      <td>27-Oct-02</td>\n",
       "    </tr>\n",
       "    <tr>\n",
       "      <th>...</th>\n",
       "      <td>...</td>\n",
       "      <td>...</td>\n",
       "      <td>...</td>\n",
       "      <td>...</td>\n",
       "      <td>...</td>\n",
       "      <td>...</td>\n",
       "    </tr>\n",
       "    <tr>\n",
       "      <th>823</th>\n",
       "      <td>Grand Theft Auto IV: The Ballad of Gay Tony</td>\n",
       "      <td>89</td>\n",
       "      <td>NaN</td>\n",
       "      <td>Slightly less satisfying than last time around...</td>\n",
       "      <td>90.0</td>\n",
       "      <td>29-Oct-09</td>\n",
       "    </tr>\n",
       "    <tr>\n",
       "      <th>824</th>\n",
       "      <td>Grand Theft Auto: Vice City 10th Anniversary E...</td>\n",
       "      <td>80</td>\n",
       "      <td>NaN</td>\n",
       "      <td>If you aren't grinning by mission two then the...</td>\n",
       "      <td>82.0</td>\n",
       "      <td>06-Dec-12</td>\n",
       "    </tr>\n",
       "    <tr>\n",
       "      <th>825</th>\n",
       "      <td>Grand Theft Auto: Liberty City Stories</td>\n",
       "      <td>78</td>\n",
       "      <td>NaN</td>\n",
       "      <td>Spectacularly good value, despite some of the ...</td>\n",
       "      <td>90.0</td>\n",
       "      <td>06-Jun-06</td>\n",
       "    </tr>\n",
       "    <tr>\n",
       "      <th>826</th>\n",
       "      <td>Grand Theft Auto IV: The Lost and Damned</td>\n",
       "      <td>88</td>\n",
       "      <td>Vandal</td>\n",
       "      <td>A dark and sordid revisit to Liberty City full...</td>\n",
       "      <td>90.0</td>\n",
       "      <td>13-Apr-10</td>\n",
       "    </tr>\n",
       "    <tr>\n",
       "      <th>827</th>\n",
       "      <td>Grand Theft Auto IV: The Ballad of Gay Tony</td>\n",
       "      <td>89</td>\n",
       "      <td>Gamers' Temple</td>\n",
       "      <td>It's still GTA IV, but there's plenty that's n...</td>\n",
       "      <td>94.0</td>\n",
       "      <td>29-Oct-09</td>\n",
       "    </tr>\n",
       "  </tbody>\n",
       "</table>\n",
       "<p>828 rows × 6 columns</p>\n",
       "</div>"
      ],
      "text/plain": [
       "                                                 title score          critic  \\\n",
       "0               Grand Theft Auto: Liberty City Stories    88       Gamer 2.0   \n",
       "1                        Grand Theft Auto: San Andreas    93    Gamer's Hell   \n",
       "2                     Grand Theft Auto: Chinatown Wars    93          IGN AU   \n",
       "3                        Grand Theft Auto: San Andreas    95             NaN   \n",
       "4                          Grand Theft Auto: Vice City    95     Thunderbolt   \n",
       "..                                                 ...   ...             ...   \n",
       "823        Grand Theft Auto IV: The Ballad of Gay Tony    89             NaN   \n",
       "824  Grand Theft Auto: Vice City 10th Anniversary E...    80             NaN   \n",
       "825             Grand Theft Auto: Liberty City Stories    78             NaN   \n",
       "826           Grand Theft Auto IV: The Lost and Damned    88          Vandal   \n",
       "827        Grand Theft Auto IV: The Ballad of Gay Tony    89  Gamers' Temple   \n",
       "\n",
       "                                               summary  score_critic  \\\n",
       "0    On one hand, it is watered-down, it is not as ...          83.0   \n",
       "1    An absolute blast to play, if you can forgive ...          78.0   \n",
       "2    For Nintendo-only gamers out there – and these...          93.0   \n",
       "3    Bigger and richer in every way - a near bottom...          88.0   \n",
       "4    It has the right blend of intense gameplay, an...          90.0   \n",
       "..                                                 ...           ...   \n",
       "823  Slightly less satisfying than last time around...          90.0   \n",
       "824  If you aren't grinning by mission two then the...          82.0   \n",
       "825  Spectacularly good value, despite some of the ...          90.0   \n",
       "826  A dark and sordid revisit to Liberty City full...          90.0   \n",
       "827  It's still GTA IV, but there's plenty that's n...          94.0   \n",
       "\n",
       "          year  \n",
       "0    24-Oct-05  \n",
       "1    07-Jun-05  \n",
       "2    17-Mar-09  \n",
       "3    26-Oct-04  \n",
       "4    27-Oct-02  \n",
       "..         ...  \n",
       "823  29-Oct-09  \n",
       "824  06-Dec-12  \n",
       "825  06-Jun-06  \n",
       "826  13-Apr-10  \n",
       "827  29-Oct-09  \n",
       "\n",
       "[828 rows x 6 columns]"
      ]
     },
     "execution_count": 32,
     "metadata": {},
     "output_type": "execute_result"
    }
   ],
   "source": [
    "reviews"
   ]
  },
  {
   "cell_type": "code",
   "execution_count": 33,
   "id": "3c18df17",
   "metadata": {},
   "outputs": [],
   "source": [
    "reviews['date'] =  pd.to_datetime(reviews['year'])\n"
   ]
  },
  {
   "cell_type": "code",
   "execution_count": 34,
   "id": "32c2bd74",
   "metadata": {},
   "outputs": [
    {
     "data": {
      "text/plain": [
       "count                     828\n",
       "unique                     15\n",
       "top       2005-06-07 00:00:00\n",
       "freq                      105\n",
       "first     2002-10-27 00:00:00\n",
       "last      2012-12-06 00:00:00\n",
       "Name: date, dtype: object"
      ]
     },
     "execution_count": 34,
     "metadata": {},
     "output_type": "execute_result"
    }
   ],
   "source": [
    "reviews['date'].describe()"
   ]
  },
  {
   "cell_type": "markdown",
   "id": "6e9f28e2",
   "metadata": {},
   "source": [
    "We have reviews of Grand Theft Auto series launched between 2002-2012"
   ]
  },
  {
   "cell_type": "code",
   "execution_count": null,
   "id": "56d0f8cd",
   "metadata": {},
   "outputs": [],
   "source": [
    "#processing review data and then calculating the sentiment score \n"
   ]
  }
 ],
 "metadata": {
  "kernelspec": {
   "display_name": "Python 3",
   "language": "python",
   "name": "python3"
  },
  "language_info": {
   "codemirror_mode": {
    "name": "ipython",
    "version": 3
   },
   "file_extension": ".py",
   "mimetype": "text/x-python",
   "name": "python",
   "nbconvert_exporter": "python",
   "pygments_lexer": "ipython3",
   "version": "3.8.8"
  }
 },
 "nbformat": 4,
 "nbformat_minor": 5
}
