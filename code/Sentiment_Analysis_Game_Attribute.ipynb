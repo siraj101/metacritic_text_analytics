{
 "cells": [
  {
   "cell_type": "markdown",
   "id": "7924b8bf",
   "metadata": {},
   "source": [
    "## Sentiment Analysis using vader"
   ]
  },
  {
   "cell_type": "code",
   "execution_count": 263,
   "id": "22ba835a",
   "metadata": {},
   "outputs": [],
   "source": [
    "# Importing libraries \n",
    "\n",
    "import pandas as pd\n",
    "import numpy as np\n",
    "import matplotlib.pyplot as plt\n",
    "import seaborn as sns\n",
    "plt.rcParams['figure.figsize'] = [8, 8]\n",
    "sns.set_theme(style=\"whitegrid\")\n",
    "sns.color_palette(\"rocket\", as_cmap=True)\n",
    "sns.set_palette(\"pastel\")\n",
    "#hide all warnings\n",
    "import warnings\n",
    "warnings.filterwarnings('ignore')\n",
    "import nltk\n",
    "from nltk.tokenize import word_tokenize\n",
    "from nltk.corpus import stopwords\n",
    "from nltk.stem.wordnet import WordNetLemmatizer\n",
    "\n",
    "from vaderSentiment.vaderSentiment import SentimentIntensityAnalyzer\n",
    "sid_obj = SentimentIntensityAnalyzer()\n",
    "\n",
    "\n",
    "\n",
    "# Defining vader function \n",
    "\n",
    "def vader_sentiment(x):\n",
    "    \"\"\"Define sentiment analysis function\"\"\"\n",
    "    sentiment_dict = sid_obj.polarity_scores(x)\n",
    "    if sentiment_dict['compound'] > 0.05:\n",
    "        return pd.Series(['positive', sentiment_dict['compound']])\n",
    "    elif sentiment_dict['compound'] <= -0.05:\n",
    "        return pd.Series(['negative', sentiment_dict['compound']])\n",
    "    else:\n",
    "        return pd.Series(['neutral',sentiment_dict['compound']])"
   ]
  },
  {
   "cell_type": "code",
   "execution_count": 25,
   "id": "cddeda09",
   "metadata": {},
   "outputs": [],
   "source": [
    "# read csv\n",
    "reviews_sen = pd.read_csv(R\"C:\\Users\\Admin\\Documents\\GitHub\\metacritic_text_analytics\\data\\reviews_sentiment.csv\") # to get lemmatized reviews\n",
    "lexicon = pd.read_csv(R\"C:\\Users\\Admin\\Documents\\GitHub\\metacritic_text_analytics\\data\\topic-grouping-v2.csv\") # to get lexicon\n",
    "reviews = pd.read_csv(R\"C:\\Users\\Admin\\Documents\\GitHub\\metacritic_text_analytics\\data\\reviews.csv\") \n",
    "game_list = reviews[[\"game_id\", \"game_name\", 'score']] \n",
    "game_list = pd.DataFrame(game_list.groupby(['game_id', 'game_name'])['score'].mean()).reset_index() # to get game names and average scores"
   ]
  },
  {
   "cell_type": "code",
   "execution_count": 28,
   "id": "14f29a70",
   "metadata": {},
   "outputs": [],
   "source": [
    "words = lexicon.word # define list of words \n",
    "groups = lexicon.Group # define list of groups "
   ]
  },
  {
   "cell_type": "code",
   "execution_count": 29,
   "id": "09361ca6",
   "metadata": {},
   "outputs": [],
   "source": [
    "# Running sentiment analysis on key word +- 2 \n",
    "\n",
    "results_all = []\n",
    "for row in reviews_sen.lemmatized:\n",
    "    row = row.replace(\"’\",\"\")\n",
    "    results_row = []\n",
    "    for word in row.split():\n",
    "        if word in list(words):\n",
    "            position = row.split().index(word)\n",
    "            position_add = row.split().index(word)+2\n",
    "            position_rem = row.split().index(word)-2\n",
    "            \n",
    "            if len(row.split()) <= position_add:\n",
    "                temp_str = \" \".join(row.split()[position_rem:position]) + \" \" + row.split()[position]\n",
    "                results_row.append([word,temp_str,vader_sentiment(temp_str)[1]])    \n",
    "            \n",
    "            elif position_rem <0:\n",
    "                temp_str = row.split()[position] + \" \" + \" \".join(row.split()[position+1:position_add+1])\n",
    "                results_row.append([word,temp_str,vader_sentiment(temp_str)[1]])\n",
    "\n",
    "            else:\n",
    "                temp_str = \" \".join(row.split()[position_rem:position]) + \" \" + row.split()[position] + \" \" + \" \".join(row.split()[position+1:position_add+1])\n",
    "                results_row.append([word, temp_str, vader_sentiment(temp_str)[1]])\n",
    "    \n",
    "    results_all.append(results_row)"
   ]
  },
  {
   "cell_type": "code",
   "execution_count": 30,
   "id": "14633dde",
   "metadata": {},
   "outputs": [],
   "source": [
    "# Linking words with groups grom lexicon\n",
    "\n",
    "results_groups_all = []\n",
    "for review in results_all:\n",
    "    results_groups= []\n",
    "    for word in review:\n",
    "        indx = list(words).index(word[0])\n",
    "        group = list(groups)[indx]\n",
    "        results_groups.append([group, word[-1]])\n",
    "    results_groups_all.append(results_groups)"
   ]
  },
  {
   "cell_type": "code",
   "execution_count": 31,
   "id": "bb7c15e2",
   "metadata": {},
   "outputs": [
    {
     "data": {
      "text/plain": [
       "[['game design', 0.5423],\n",
       " ['game design', 0.2263],\n",
       " ['game design', 0.2263],\n",
       " ['game design', 0.0]]"
      ]
     },
     "execution_count": 31,
     "metadata": {},
     "output_type": "execute_result"
    }
   ],
   "source": [
    "results_groups_all[2]"
   ]
  },
  {
   "cell_type": "code",
   "execution_count": 32,
   "id": "3e7eb40c",
   "metadata": {
    "scrolled": true
   },
   "outputs": [],
   "source": [
    "# Formatting dataset\n",
    "final_list= []\n",
    "for review in results_groups_all:\n",
    "    if len(review) == 0:\n",
    "        final_list.append(0)\n",
    "    else:\n",
    "        final_list.append(np.array(pd.DataFrame(review).groupby(0)[1].mean().reset_index()))\n",
    "\n",
    "# pd.DataFrame(results_groups_all[2]).groupby(0)[1].mean()"
   ]
  },
  {
   "cell_type": "code",
   "execution_count": 41,
   "id": "4b36ae64",
   "metadata": {},
   "outputs": [],
   "source": [
    "# Getting average sentiment score per game per attribute\n",
    "\n",
    "final_df= pd.DataFrame(columns = groups.unique(), index = np.arange(reviews_sen.shape[0]))\n",
    "for indx in np.arange(len(final_list)):\n",
    "    if type(final_list[indx]) == int:\n",
    "        continue\n",
    "    else:\n",
    "        for length in np.arange(len(final_list[indx])):\n",
    "            final_df.loc[indx,final_list[indx][length][0]]= final_list[indx][length][1]\n",
    "            \n",
    "game_sen = final_df.merge(game_list, left_index = True, right_index=True)\n",
    "game_sen = game_sen.groupby(['game_id', 'game_name', 'score']).mean().reset_index()"
   ]
  },
  {
   "cell_type": "code",
   "execution_count": 192,
   "id": "0a07a928",
   "metadata": {},
   "outputs": [],
   "source": [
    "# Saving to csv \n",
    "game_sen.to_csv('Sentiment_Analysis_Per_Game_Per_Attribute.csv')"
   ]
  },
  {
   "cell_type": "code",
   "execution_count": 49,
   "id": "ab24d676",
   "metadata": {},
   "outputs": [],
   "source": [
    "final_df['score'] = reviews_sen['score']\n",
    "final_df.to_csv('Sentiment_Analysis_Per_Review_Per_Attribute.csv')"
   ]
  }
 ],
 "metadata": {
  "kernelspec": {
   "display_name": "Python 3",
   "language": "python",
   "name": "python3"
  },
  "language_info": {
   "codemirror_mode": {
    "name": "ipython",
    "version": 3
   },
   "file_extension": ".py",
   "mimetype": "text/x-python",
   "name": "python",
   "nbconvert_exporter": "python",
   "pygments_lexer": "ipython3",
   "version": "3.8.8"
  }
 },
 "nbformat": 4,
 "nbformat_minor": 5
}
